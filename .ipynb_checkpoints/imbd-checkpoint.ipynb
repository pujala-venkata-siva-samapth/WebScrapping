{
 "cells": [
  {
   "cell_type": "code",
   "execution_count": 14,
   "id": "1bbc50b2-6349-4677-a9fc-67e2eb4418ce",
   "metadata": {},
   "outputs": [],
   "source": [
    "import pandas as pd\n",
    "from bs4 import BeautifulSoup\n",
    "import requests"
   ]
  },
  {
   "cell_type": "code",
   "execution_count": 15,
   "id": "a174607a-c4c2-4207-9248-505f7b4b3552",
   "metadata": {},
   "outputs": [],
   "source": [
    "url=\"https://www.imdb.com/chart/top/\"\n",
    "headers = {\n",
    "    \"User-Agent\": \"Mozilla/5.0 (Windows NT 10.0; Win64; x64) AppleWebKit/537.36 (KHTML, like Gecko) Chrome/110.0.0.0 Safari/537.36\"\n",
    "}\n",
    "\n",
    "responce=requests.get(url)\n",
    "soup=BeautifulSoup(responce.text,'html.parser')"
   ]
  },
  {
   "cell_type": "code",
   "execution_count": 21,
   "id": "998c1f33-d172-4be9-9777-d0125d02f894",
   "metadata": {},
   "outputs": [
    {
     "data": {
      "text/plain": [
       "[<h3 class=\"ipc-title__text\">IMDb Charts</h3>,\n",
       " <h3 class=\"ipc-title__text\">1. The Shawshank Redemption</h3>,\n",
       " <h3 class=\"ipc-title__text\">2. The Godfather</h3>,\n",
       " <h3 class=\"ipc-title__text\">3. The Dark Knight</h3>,\n",
       " <h3 class=\"ipc-title__text\">4. The Godfather: Part II</h3>,\n",
       " <h3 class=\"ipc-title__text\">5. 12 Angry Men</h3>,\n",
       " <h3 class=\"ipc-title__text\">6. The Lord of the Rings: The Return of the King</h3>,\n",
       " <h3 class=\"ipc-title__text\">7. Schindler's List</h3>,\n",
       " <h3 class=\"ipc-title__text\">8. Pulp Fiction</h3>,\n",
       " <h3 class=\"ipc-title__text\">9. The Lord of the Rings: The Fellowship of the Ring</h3>,\n",
       " <h3 class=\"ipc-title__text\">10. Il Buono, Il Brutto, Il Cattivo</h3>,\n",
       " <h3 class=\"ipc-title__text\">11. Forrest Gump</h3>,\n",
       " <h3 class=\"ipc-title__text\">12. The Lord of the Rings: The Two Towers</h3>,\n",
       " <h3 class=\"ipc-title__text\">13. Fight Club</h3>,\n",
       " <h3 class=\"ipc-title__text\">14. Inception</h3>,\n",
       " <h3 class=\"ipc-title__text\">15. Star Wars: Episode V - The Empire Strikes Back</h3>,\n",
       " <h3 class=\"ipc-title__text\">16. The Matrix</h3>,\n",
       " <h3 class=\"ipc-title__text\">17. GoodFellas</h3>,\n",
       " <h3 class=\"ipc-title__text\">18. One Flew Over the Cuckoo's Nest</h3>,\n",
       " <h3 class=\"ipc-title__text\">19. Interstellar</h3>,\n",
       " <h3 class=\"ipc-title__text\">20. Se7en</h3>,\n",
       " <h3 class=\"ipc-title__text\">21. It's a Wonderful Life</h3>,\n",
       " <h3 class=\"ipc-title__text\">22. Shichinin No Samurai</h3>,\n",
       " <h3 class=\"ipc-title__text\">23. The Silence of the Lambs</h3>,\n",
       " <h3 class=\"ipc-title__text\">24. Saving Private Ryan</h3>,\n",
       " <h3 class=\"ipc-title__text\">25. City of God</h3>,\n",
       " <h3 class=\"ipc-title__text\">Recently viewed</h3>]"
      ]
     },
     "execution_count": 21,
     "metadata": {},
     "output_type": "execute_result"
    }
   ],
   "source": [
    "movies=soup.select(\"h3\",class_=\"ipc-title__text\")\n"
   ]
  },
  {
   "cell_type": "code",
   "execution_count": 33,
   "id": "7b6e82f6-ac79-4c0b-ba03-0093ec224ef2",
   "metadata": {},
   "outputs": [],
   "source": [
    "titles=[]\n",
    "for title in movies:\n",
    "    titles.append(title.text)"
   ]
  },
  {
   "cell_type": "code",
   "execution_count": 34,
   "id": "d6a04045-baf8-408b-b4a8-9e2ff0f9bc9f",
   "metadata": {},
   "outputs": [
    {
     "data": {
      "text/plain": [
       "['IMDb ChartsIMDb Charts',\n",
       " '1. The Shawshank Redemption1. The Shawshank Redemption',\n",
       " '2. The Godfather2. The Godfather',\n",
       " '3. The Dark Knight3. The Dark Knight',\n",
       " '4. The Godfather: Part II4. The Godfather: Part II',\n",
       " '5. 12 Angry Men5. 12 Angry Men',\n",
       " '6. The Lord of the Rings: The Return of the King6. The Lord of the Rings: The Return of the King',\n",
       " \"7. Schindler's List7. Schindler's List\",\n",
       " '8. Pulp Fiction8. Pulp Fiction',\n",
       " '9. The Lord of the Rings: The Fellowship of the Ring9. The Lord of the Rings: The Fellowship of the Ring',\n",
       " '10. Il Buono, Il Brutto, Il Cattivo10. Il Buono, Il Brutto, Il Cattivo',\n",
       " '11. Forrest Gump11. Forrest Gump',\n",
       " '12. The Lord of the Rings: The Two Towers12. The Lord of the Rings: The Two Towers',\n",
       " '13. Fight Club13. Fight Club',\n",
       " '14. Inception14. Inception',\n",
       " '15. Star Wars: Episode V - The Empire Strikes Back15. Star Wars: Episode V - The Empire Strikes Back',\n",
       " '16. The Matrix16. The Matrix',\n",
       " '17. GoodFellas17. GoodFellas',\n",
       " \"18. One Flew Over the Cuckoo's Nest18. One Flew Over the Cuckoo's Nest\",\n",
       " '19. Interstellar19. Interstellar',\n",
       " '20. Se7en20. Se7en',\n",
       " \"21. It's a Wonderful Life21. It's a Wonderful Life\",\n",
       " '22. Shichinin No Samurai22. Shichinin No Samurai',\n",
       " '23. The Silence of the Lambs23. The Silence of the Lambs',\n",
       " '24. Saving Private Ryan24. Saving Private Ryan',\n",
       " '25. City of God25. City of God',\n",
       " 'Recently viewedRecently viewed']"
      ]
     },
     "execution_count": 34,
     "metadata": {},
     "output_type": "execute_result"
    }
   ],
   "source": [
    "titles"
   ]
  },
  {
   "cell_type": "code",
   "execution_count": 36,
   "id": "3658a38a-5abc-4e4c-aef4-95cac5a94ec5",
   "metadata": {},
   "outputs": [],
   "source": [
    "df = pd.DataFrame(titles, columns=[\"Movie Title\"])\n",
    "df.to_csv(\"imdb_movie_titles.csv\", index=False)"
   ]
  },
  {
   "cell_type": "code",
   "execution_count": null,
   "id": "14590d10-4272-45b7-b6ea-979fe13aafe8",
   "metadata": {},
   "outputs": [],
   "source": []
  },
  {
   "cell_type": "code",
   "execution_count": null,
   "id": "42c5e76f-38ce-466b-a967-acdce8a25bc8",
   "metadata": {},
   "outputs": [],
   "source": []
  },
  {
   "cell_type": "code",
   "execution_count": null,
   "id": "1b268a15-a027-4538-87aa-5c993a36c0b5",
   "metadata": {},
   "outputs": [],
   "source": []
  }
 ],
 "metadata": {
  "kernelspec": {
   "display_name": "Python 3 (ipykernel)",
   "language": "python",
   "name": "python3"
  },
  "language_info": {
   "codemirror_mode": {
    "name": "ipython",
    "version": 3
   },
   "file_extension": ".py",
   "mimetype": "text/x-python",
   "name": "python",
   "nbconvert_exporter": "python",
   "pygments_lexer": "ipython3",
   "version": "3.12.7"
  }
 },
 "nbformat": 4,
 "nbformat_minor": 5
}
